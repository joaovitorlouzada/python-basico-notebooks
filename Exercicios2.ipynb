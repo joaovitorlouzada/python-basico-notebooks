{
 "cells": [
  {
   "cell_type": "code",
   "execution_count": 9,
   "id": "4d69ef55-265f-4298-bd6d-02db5f17b6e0",
   "metadata": {},
   "outputs": [
    {
     "name": "stdin",
     "output_type": "stream",
     "text": [
      "Digite uma idade:  15\n"
     ]
    },
    {
     "name": "stdout",
     "output_type": "stream",
     "text": [
      "A idade apresentada 15 pertence à faixa etária: Adolescente\n"
     ]
    }
   ],
   "source": [
    "#Leia a idade do usuário e classifique-o em:\n",
    "#– Criança – 0 a 12 anos\n",
    "#– Adolescente – 13 a 17 anos\n",
    "#– Adulto – acima de 18 anos\n",
    "#-Se o usuário digitar um número negativo, mostrar a mensagem que a idade é inválida\n",
    "\n",
    "idade = int(input(\"Digite uma idade: \"))\n",
    "\n",
    "if idade < 0:\n",
    "    print(\"Idade inválida\")\n",
    "elif idade >= 0 and idade <= 12:\n",
    "    print(f\"A idade apresentada {idade} pertence à faixa etária: Criança\")\n",
    "elif idade >= 13 and idade <= 17:\n",
    "    print(f\"A idade apresentada {idade} pertence à faixa etária: Adolescente\")\n",
    "else:\n",
    "    print(f\"A idade apresentada {idade} pertence à faixa etária: Adulto\")\n"
   ]
  },
  {
   "cell_type": "code",
   "execution_count": 17,
   "id": "df427a92-4dd5-43ab-a8e1-eda690f68142",
   "metadata": {},
   "outputs": [
    {
     "name": "stdin",
     "output_type": "stream",
     "text": [
      "Digite a média 1:  5\n",
      "Digite a média 2:  5\n",
      "Digite a média 3:  5\n"
     ]
    },
    {
     "name": "stdout",
     "output_type": "stream",
     "text": [
      "A média é:  5.00\n",
      "Aluno pegou exame\n"
     ]
    },
    {
     "name": "stdin",
     "output_type": "stream",
     "text": [
      "Digite a nota do exame:  6\n"
     ]
    },
    {
     "name": "stdout",
     "output_type": "stream",
     "text": [
      "Aluno aprovado\n"
     ]
    }
   ],
   "source": [
    "#Calcular a média de um aluno que cursou a disciplina de Programação I, a partir da leitura das notas M1, M2 e M3; passando \n",
    "#por um cálculo da média aritmética. Após a média calculada, devemos anunciar se o aluno foi aprovado, reprovado ou pegou exame\n",
    "#– Se a média for maior ou igual 0.0 e menor ou igual 4.0, o aluno está reprovado\n",
    "#– Se a média for maior que 4.0 e menor do que 6.0, o aluno pegou exame\n",
    "#– Se a média for maior ou igual a 6.0, o aluno está aprovado\n",
    "#– Se o aluno pegou exame, deve ser lida a nota do exame. Se a nota do exame for maior do que 6.0, está aprovado, senão; está reprovado\n",
    "\n",
    "numDeNotasAConsiderarNaMedia = 0\n",
    "M1 = float(input(\"Digite a média 1: \"))\n",
    "numDeNotasAConsiderarNaMedia += 1\n",
    "M2 = float(input(\"Digite a média 2: \"))\n",
    "numDeNotasAConsiderarNaMedia += 1\n",
    "M3 = float(input(\"Digite a média 3: \"))\n",
    "numDeNotasAConsiderarNaMedia += 1\n",
    "\n",
    "media = (M1 + M2 + M3) / numDeNotasAConsiderarNaMedia\n",
    "\n",
    "print(f\"A média é: {media: .2f}\")\n",
    "if media >= 0.0 and media <= 4.0:\n",
    "    print(\"Aluno reprovado \")\n",
    "elif media > 4.0 and media < 6.0:\n",
    "    print(\"Aluno pegou exame\")\n",
    "    notaExame = float(input(\"Digite a nota do exame: \"))\n",
    "    if(notaExame >= 6):\n",
    "        print(\"Aluno aprovado\")\n",
    "    else:\n",
    "        print(\"Aluno reprovado\")\n",
    "elif media >= 6.0:\n",
    "    print(\"Aluno aprovado\")"
   ]
  },
  {
   "cell_type": "code",
   "execution_count": null,
   "id": "727f7270-18df-4708-ab94-c23747a285de",
   "metadata": {},
   "outputs": [],
   "source": []
  }
 ],
 "metadata": {
  "kernelspec": {
   "display_name": "Python [conda env:base] *",
   "language": "python",
   "name": "conda-base-py"
  },
  "language_info": {
   "codemirror_mode": {
    "name": "ipython",
    "version": 3
   },
   "file_extension": ".py",
   "mimetype": "text/x-python",
   "name": "python",
   "nbconvert_exporter": "python",
   "pygments_lexer": "ipython3",
   "version": "3.13.5"
  }
 },
 "nbformat": 4,
 "nbformat_minor": 5
}
