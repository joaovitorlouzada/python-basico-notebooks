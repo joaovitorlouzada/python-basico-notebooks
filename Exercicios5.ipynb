{
 "cells": [
  {
   "cell_type": "code",
   "execution_count": 3,
   "id": "743340ab-8fc5-42c8-aa7b-3a9d1fe1aa02",
   "metadata": {},
   "outputs": [
    {
     "name": "stdin",
     "output_type": "stream",
     "text": [
      "Digite uma temperatura em celsius:  20\n"
     ]
    },
    {
     "name": "stdout",
     "output_type": "stream",
     "text": [
      "A temperatura digitada em Fahrenhit é: 68.00\n",
      "O resultado é: 122.0\n"
     ]
    }
   ],
   "source": [
    "#Ler uma temperatura em graus Celsius e apresentá-la convertida em graus Fahrenheit. A fórmula de conversão é F = (9 * C + 160) / 5, \n",
    "#na qual F é a temperatura em Fahrenheit e C é a temperatura em graus Celsius\n",
    "#– Função para ler e retorna o valor da temperatura (não recebe parâmetro)\n",
    "#– Função para fazer o cálculo (recebe como parâmetro a temperatura em graus Celsius)\n",
    "#– Função para mostrar o resultado, recebendo como parâmetro o valor e fazendo a impressão\n",
    "\n",
    "def converterCelsiusEmFahrenheit(tempCelsius):\n",
    "    return ( 9 * tempCelsius + 160) / 5\n",
    "\n",
    "def funcLerTemperaturERetornarTemp():\n",
    "    tempCelsius = float(input(\"Digite uma temperatura em celsius: \"))\n",
    "    print(f\"A temperatura digitada em Fahrenhit é: {converterCelsiusEmFahrenheit(tempCelsius):.2f}\")\n",
    "\n",
    "def converterCelsiusEmFahrenheitImpressao(tempCelsius):\n",
    "    print(f\"O resultado é: {(9 * tempCelsius + 160) / 5}\")\n",
    "\n",
    "funcLerTemperaturERetornarTemp()\n",
    "converterCelsiusEmFahrenheitImpressao(50)"
   ]
  },
  {
   "cell_type": "code",
   "execution_count": 7,
   "id": "25979335-6bf0-423f-bba1-424824d9e531",
   "metadata": {},
   "outputs": [
    {
     "name": "stdin",
     "output_type": "stream",
     "text": [
      "Digite o tempo gasto na viagem:  2\n",
      "Digite a velocidade média durante a viagem:  60\n"
     ]
    },
    {
     "name": "stdout",
     "output_type": "stream",
     "text": [
      "O tempo gasto na viagem foi de 2 hrs com velocidade média de 60.00\n",
      "A quantidade de litros utilizados na viagem foi de 10.00 litros\n"
     ]
    }
   ],
   "source": [
    "#Efetuar o cálculo da quantidade de litros de combustível gasto em uma viagem, utilizando um automóvel que faz 12 Km por litro. \n",
    "#Para obter o cálculo, o usuário deve fornecer o tempo gasto na viagem e a velocidade média durante ela. \n",
    "#Desta forma, será possível obter a distância percorrida com a fórmula DISTANCIA = TEMPO * VELOCIDADE. \n",
    "#Tendo o valor da distância, basta calcular a quantidade de litros de combustível utilizada na viagem, com a fórmula: \n",
    "#LITROS_USADOS = DISTANCIA / 12. O programa deve apresentar os valores da velocidade média, tempo gasto na viagem, \n",
    "#a distância percorrida e a quantidade de litros utilizada na viagem\n",
    "#– Função para ler os valores (não recebe parâmetro e retorna os dois valores)\n",
    "#– Função para calcular a distância (recebe como parâmetro o tempo e a velocidade e retorna a distância)\n",
    "#– Função para calcular a quantidade de litros (recebe como parâmetro a distância e retorna os litros)\n",
    "#– Função para apresentar o resultado (recebe como parâmetro os valores e somente imprime o resultado)\n",
    "\n",
    "\n",
    "def funcImprimeValores():\n",
    "    tempo = int(input(\"Digite o tempo gasto na viagem: \"))\n",
    "    velocidade = float(input(\"Digite a velocidade média durante a viagem: \"))\n",
    "    print(f\"O tempo gasto na viagem foi de {tempo} hrs com velocidade média de {velocidade:.2f}\")\n",
    "\n",
    "def calcularDistancia(tempo, velocidade):\n",
    "    return tempo * velocidade\n",
    "\n",
    "def calcularQtdLitrosGastos(distancia):\n",
    "    return distancia / 12\n",
    "\n",
    "def funcImprimeOResultado(tempo, velocidade):\n",
    "    print(f\"A quantidade de litros utilizados na viagem foi de {(tempo * velocidade) / 12:.2f} litros\")\n",
    "\n",
    "funcImprimeValores()\n",
    "calcularDistancia(2, 60)\n",
    "calcularQtdLitrosGastos(calcularDistancia(2, 60))\n",
    "funcImprimeOResultado(2, 60)"
   ]
  },
  {
   "cell_type": "code",
   "execution_count": null,
   "id": "0c6d24a2-1064-421c-8b58-c4c4fb2d1213",
   "metadata": {},
   "outputs": [],
   "source": []
  }
 ],
 "metadata": {
  "kernelspec": {
   "display_name": "Python [conda env:base] *",
   "language": "python",
   "name": "conda-base-py"
  },
  "language_info": {
   "codemirror_mode": {
    "name": "ipython",
    "version": 3
   },
   "file_extension": ".py",
   "mimetype": "text/x-python",
   "name": "python",
   "nbconvert_exporter": "python",
   "pygments_lexer": "ipython3",
   "version": "3.13.5"
  }
 },
 "nbformat": 4,
 "nbformat_minor": 5
}
