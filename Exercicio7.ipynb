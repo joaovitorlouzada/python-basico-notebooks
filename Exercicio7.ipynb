{
 "cells": [
  {
   "cell_type": "code",
   "execution_count": 6,
   "id": "0682f895-8f92-4d64-b946-e23bf00d4ee8",
   "metadata": {},
   "outputs": [
    {
     "name": "stdout",
     "output_type": "stream",
     "text": [
      "Pedro: 8.0\n",
      "\n",
      "Maria: 10.0\n",
      "\n",
      "Amilton: 7.5\n",
      "\n"
     ]
    }
   ],
   "source": [
    "#Considerando o dicionário com o nome dos alunos e suas respectivas notas abaixo, crie uma estrutura de repetição para percorrer cada elemento do dicionário para gravar cada aluno em um novo arquivo de texto\n",
    "#– Cada aluno deve ocupar uma linha do novo arquivo de texto\n",
    "#– O formato deve ser: nome,nota (Pedro,8.0)\n",
    "#– Após a criação do arquivo de texto, faça a leitura do arquivo e mostre todos os alunos\n",
    "#alunos = {'Pedro': 8.0, 'Maria': 10.0, 'Amilton': 7.5}\n",
    "\n",
    "alunos = {'Pedro': 8.0, 'Maria': 10.0, 'Amilton': 7.5}\n",
    "\n",
    "for aluno, nota in alunos.items():\n",
    "    with open(\"test.txt\", \"w\", encoding=\"utf-8\") as arquivo:\n",
    "        arquivo.write(f\"{aluno}: {nota}\\n\")\n",
    "    with open(\"test.txt\", \"r\") as arquivo:\n",
    "        for linha in arquivo:\n",
    "            print(linha)\n",
    "\n",
    "\n",
    "    "
   ]
  },
  {
   "cell_type": "code",
   "execution_count": null,
   "id": "1839aa67-a7b7-4659-8af1-4b2ba814649c",
   "metadata": {},
   "outputs": [],
   "source": []
  }
 ],
 "metadata": {
  "kernelspec": {
   "display_name": "Python [conda env:base] *",
   "language": "python",
   "name": "conda-base-py"
  },
  "language_info": {
   "codemirror_mode": {
    "name": "ipython",
    "version": 3
   },
   "file_extension": ".py",
   "mimetype": "text/x-python",
   "name": "python",
   "nbconvert_exporter": "python",
   "pygments_lexer": "ipython3",
   "version": "3.13.5"
  }
 },
 "nbformat": 4,
 "nbformat_minor": 5
}
