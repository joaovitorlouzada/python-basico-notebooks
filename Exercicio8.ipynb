{
 "cells": [
  {
   "cell_type": "code",
   "execution_count": 16,
   "id": "40ce624d-14fd-4271-8df0-94966f1dbcbe",
   "metadata": {},
   "outputs": [
    {
     "name": "stdout",
     "output_type": "stream",
     "text": [
      "['(31) 98376-1019']\n",
      "['(55) 33333-3333']\n",
      "['67125-310']\n",
      "['05121-010']\n",
      "['www.fazsiteltda.com']\n",
      "['www.google.com']\n",
      "['www.youtube.com']\n"
     ]
    }
   ],
   "source": [
    "#Crie expressões regulares para extrair as seguintes informações do texto abaixo (use a função findall):\n",
    "#– Números\n",
    "#– CEPs\n",
    "#– URLs\n",
    "\n",
    "import re\n",
    "\n",
    "numeros = [\"(31) 98376-1019\", \"(55) 33333-3333\"]\n",
    "\n",
    "for n in numeros:\n",
    "    print(re.findall('\\(\\d{2}\\) \\d{4,5}-\\d{4}', n))\n",
    "\n",
    "ceps = [\"67125-310\", \"05121-010\"]\n",
    "\n",
    "for cep in ceps:\n",
    "    print(re.findall('\\d{5}-\\d{3}', cep))\n",
    "\n",
    "urls = [\"www.fazsiteltda.com\", \"www.google.com\", \"www.youtube.com\"]\n",
    "\n",
    "for url in urls:\n",
    "    print(re.findall('\\w{3}\\.\\w+\\.com',url))"
   ]
  },
  {
   "cell_type": "code",
   "execution_count": null,
   "id": "cb8c0e8c-c9d1-44d6-9d81-99005aebe8f9",
   "metadata": {},
   "outputs": [],
   "source": []
  },
  {
   "cell_type": "code",
   "execution_count": null,
   "id": "32445e0a-c918-408e-bfdb-87f4597a1f21",
   "metadata": {},
   "outputs": [],
   "source": []
  }
 ],
 "metadata": {
  "kernelspec": {
   "display_name": "Python [conda env:base] *",
   "language": "python",
   "name": "conda-base-py"
  },
  "language_info": {
   "codemirror_mode": {
    "name": "ipython",
    "version": 3
   },
   "file_extension": ".py",
   "mimetype": "text/x-python",
   "name": "python",
   "nbconvert_exporter": "python",
   "pygments_lexer": "ipython3",
   "version": "3.13.5"
  }
 },
 "nbformat": 4,
 "nbformat_minor": 5
}
