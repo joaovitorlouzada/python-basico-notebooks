{
 "cells": [
  {
   "cell_type": "code",
   "execution_count": 1,
   "id": "d7ad68db-e5c1-4a96-93ac-1cb6785fa9a3",
   "metadata": {},
   "outputs": [
    {
     "name": "stdout",
     "output_type": "stream",
     "text": [
      "Hello World!\n"
     ]
    }
   ],
   "source": [
    "print(\"Hello World!\");\n"
   ]
  },
  {
   "cell_type": "code",
   "execution_count": 9,
   "id": "595ac5ed-ca71-469f-9b29-3d5821da1919",
   "metadata": {},
   "outputs": [
    {
     "name": "stdin",
     "output_type": "stream",
     "text": [
      "Digite um número:  1\n",
      "Digite outro número:  2\n"
     ]
    },
    {
     "name": "stdout",
     "output_type": "stream",
     "text": [
      "Resultado para cada uma das operações a seguir: \n",
      "Adição:  3.0\n",
      "Subtração:  -1.0\n",
      "Multiplicação:  2.0\n",
      "Divisão:  0.5\n"
     ]
    }
   ],
   "source": [
    "#Exercício 1\n",
    "num1 = float(input(\"Digite um número: \"))\n",
    "num2 = float(input(\"Digite outro número: \"))\n",
    "print(\"Resultado para cada uma das operações a seguir: \")\n",
    "print(\"Adição: \", num1 + num2)\n",
    "print(\"Subtração: \", num1 - num2)\n",
    "print(\"Multiplicação: \", num1 * num2)\n",
    "print(\"Divisão: \", num1 / num2)\n"
   ]
  },
  {
   "cell_type": "code",
   "execution_count": 13,
   "id": "c7cec481-4be8-4a6a-8b65-a707a56e65f1",
   "metadata": {},
   "outputs": [
    {
     "name": "stdin",
     "output_type": "stream",
     "text": [
      "Digite o tempo gasto na viagem em horas:  2\n",
      "Digite a velocidade média:  60\n"
     ]
    },
    {
     "name": "stdout",
     "output_type": "stream",
     "text": [
      "==== Resultados da Viagem ====\n",
      "Velocidade média: 60 km/h\n",
      "Tempo gasto: 2 h\n",
      "Distância percorrida: 120 km\n",
      "Litros de combustível usados: 10.00 L\n"
     ]
    }
   ],
   "source": [
    "#Exercício 2 \n",
    "#Efetuar o cálculo da quantidade de litros de combustível gasto em uma viagem, \n",
    "#utilizando um automóvel que faz 12 Km por litro. Para obter o cálculo, o usuário deve fornecer o tempo gasto \n",
    "#na viagem e a velocidade média durante ela. Desta forma, será possível obter a distância percorrida com a fórmula\n",
    "#DISTANCIA = TEMPO * VELOCIDADE. Tendo o valor da distância, basta calcular a quantidade de litros de combustível utilizada na viagem,\n",
    "#com a fórmula: LITROS_USADOS = DISTANCIA / 12. O programa deve apresentar os valores da velocidade média, \n",
    "#tempo gasto na viagem, a distância percorrida e a quantidade de litros utilizada na viagem\n",
    "\n",
    "\n",
    "tempoGastoNaViagem = int(input(\"Digite o tempo gasto na viagem em horas: \"))\n",
    "velocidadeMedia = int(input(\"Digite a velocidade média: \"))\n",
    "distancia = tempoGastoNaViagem * velocidadeMedia\n",
    "litrosUsados = distancia/12\n",
    "print(\"==== Resultados da Viagem ====\")\n",
    "print(f\"Velocidade média: {velocidadeMedia} km/h\")\n",
    "print(f\"Tempo gasto: {tempoGastoNaViagem} h\")\n",
    "print(f\"Distância percorrida: {distancia} km\")\n",
    "print(f\"Litros de combustível usados: {litrosUsados:.2f} L\")\n"
   ]
  },
  {
   "cell_type": "code",
   "execution_count": null,
   "id": "ea1689da-3ea5-46d5-bdb2-0f98772c6fa6",
   "metadata": {},
   "outputs": [],
   "source": []
  }
 ],
 "metadata": {
  "kernelspec": {
   "display_name": "Python [conda env:base] *",
   "language": "python",
   "name": "conda-base-py"
  },
  "language_info": {
   "codemirror_mode": {
    "name": "ipython",
    "version": 3
   },
   "file_extension": ".py",
   "mimetype": "text/x-python",
   "name": "python",
   "nbconvert_exporter": "python",
   "pygments_lexer": "ipython3",
   "version": "3.13.5"
  }
 },
 "nbformat": 4,
 "nbformat_minor": 5
}
