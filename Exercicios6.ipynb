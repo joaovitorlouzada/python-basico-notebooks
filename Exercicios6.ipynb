{
 "cells": [
  {
   "cell_type": "code",
   "execution_count": 1,
   "id": "016b321b-aeb2-4f52-8f0c-9c5bfd2f4ec2",
   "metadata": {},
   "outputs": [
    {
     "name": "stdin",
     "output_type": "stream",
     "text": [
      "Digite o número 1:  1\n",
      "Digite o número 2:  2\n"
     ]
    }
   ],
   "source": [
    "#Crie uma lista vazia e faça a leitura de dois valores do tipo float, colocando cada um dos valores nas primeiras posições da lista \n",
    "#(o valor1 ficará na posição 0 da lista e o valor2 ficará na posição 1 da lista). \n",
    "#Faça a divisão dos dois valores e trate as seguintes exceções:\n",
    "#– ValueError: se o usuário digitar um caracter\n",
    "#– ZeroDivisionError: se o usuário digitar zero e ocorrer erro na divisão\n",
    "#– IndexError: caso a divisão seja feita levando em consideração posições que não existem na lista\n",
    "#– KeyboardInterrupt: caso o usuário interrompa a execução\n",
    "#Mostre uma mensagem personalizada na ocorrência de cada um desses erros\n",
    "\n",
    "\n",
    "lista = []\n",
    "\n",
    "for i in range(2):\n",
    "    try:\n",
    "        lista.append(float(input(f\"Digite o número {i+1}: \")))\n",
    "    except ValueError:\n",
    "        print(\"Digite apenas valores numericos\")\n",
    "    except KeyboardInterrupt:\n",
    "        print(\"\\nExecução interrompida pelo usuário\")\n",
    "        exit()\n",
    "\n",
    "try:\n",
    "    lista[0] / lista [1]\n",
    "except ZeroDivisionError:\n",
    "    print(\"Não é possível dividir um valor por 0\")\n",
    "except IndexError: \n",
    "    print(\"Você está acessando uma posição não existente na lista\")\n",
    "except KeyboardInterrupt:\n",
    "    print(\"O usuário interrompeu a execução\")"
   ]
  },
  {
   "cell_type": "code",
   "execution_count": null,
   "id": "c3249d7a-1dcd-4dda-b8e7-f17bac3fc828",
   "metadata": {},
   "outputs": [],
   "source": []
  }
 ],
 "metadata": {
  "kernelspec": {
   "display_name": "Python [conda env:base] *",
   "language": "python",
   "name": "conda-base-py"
  },
  "language_info": {
   "codemirror_mode": {
    "name": "ipython",
    "version": 3
   },
   "file_extension": ".py",
   "mimetype": "text/x-python",
   "name": "python",
   "nbconvert_exporter": "python",
   "pygments_lexer": "ipython3",
   "version": "3.13.5"
  }
 },
 "nbformat": 4,
 "nbformat_minor": 5
}
