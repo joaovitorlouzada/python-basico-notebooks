{
 "cells": [
  {
   "cell_type": "code",
   "execution_count": 3,
   "id": "2c78261e-18eb-4121-9b59-4b26723b58d3",
   "metadata": {},
   "outputs": [
    {
     "name": "stdin",
     "output_type": "stream",
     "text": [
      "Digite o 1 número:  1\n",
      "Digite o 2 número:  2\n",
      "Digite o 3 número:  3\n",
      "Digite o 4 número:  4\n",
      "Digite o 5 número:  5\n"
     ]
    },
    {
     "name": "stdout",
     "output_type": "stream",
     "text": [
      "Soma dos números: 15.00\n"
     ]
    }
   ],
   "source": [
    "#Lista: Crie uma estrutura de repetição para fazer a leitura de 5 números inteiros e os armazene dentro de uma lista. Após a leitura, \n",
    "#crie outra estrutura de repetição para somar todos os valores digitados\n",
    "\n",
    "numeros = []\n",
    "\n",
    "for i in range(5):\n",
    "    numeros.append(float(input(f\"Digite o {i+1} número: \")))\n",
    "soma = 0\n",
    "for numero in numeros: \n",
    "    soma += numero\n",
    "print(f\"Soma dos números: {soma:.2f}\")"
   ]
  },
  {
   "cell_type": "code",
   "execution_count": 5,
   "id": "9c4326fb-b5ab-40af-bf77-6e8600820d1e",
   "metadata": {},
   "outputs": [
    {
     "name": "stdin",
     "output_type": "stream",
     "text": [
      "Digite o nome do aluno 1:  Julio\n",
      "Digite a nota do aluno 1:  2\n",
      "Digite o nome do aluno 2:  Amanda\n",
      "Digite a nota do aluno 2:  5\n",
      "Digite o nome do aluno 3:  João\n",
      "Digite a nota do aluno 3:  10\n"
     ]
    },
    {
     "name": "stdout",
     "output_type": "stream",
     "text": [
      "A soma dos valores é: 17.00\n"
     ]
    }
   ],
   "source": [
    "#Dicionário: Crie um dicionário para armazenar o nome e a nota de 3 alunos, fazendo a leitura dos valores por meio de uma estrutura de repetição. \n",
    "#Depois, crie uma nova estrutura de repetição para somar todas as notas e retornar a média\n",
    "\n",
    "notas = {}\n",
    "\n",
    "for i in range(3):\n",
    "    nome = input(f\"Digite o nome do aluno {i+1}: \")\n",
    "    nota = float(input(f\"Digite a nota do aluno {i+1}: \"))\n",
    "    notas[nome] = nota\n",
    "\n",
    "soma = 0\n",
    "for chave, valor in notas.items():\n",
    "    soma += valor\n",
    "print(f\"A soma dos valores é: {soma:.2f}\")"
   ]
  },
  {
   "cell_type": "code",
   "execution_count": 6,
   "id": "e99389d5-262a-4f6d-881c-3dde70432ed5",
   "metadata": {},
   "outputs": [
    {
     "ename": "SyntaxError",
     "evalue": "invalid syntax (2930217009.py, line 12)",
     "output_type": "error",
     "traceback": [
      "\u001b[1;36m  Cell \u001b[1;32mIn[6], line 12\u001b[1;36m\u001b[0m\n\u001b[1;33m    for j in range(len(matriz[i]):\u001b[0m\n\u001b[1;37m                                 ^\u001b[0m\n\u001b[1;31mSyntaxError\u001b[0m\u001b[1;31m:\u001b[0m invalid syntax\n"
     ]
    }
   ],
   "source": [
    "#Matriz: Dada a matriz abaixo, construa uma estrutura de repetição para percorrer e somar todos os elementos da matriz\n",
    "#matriz = np.array([[3, 4, 1],\n",
    "#                  [3, 1, 5]])\n",
    "\n",
    "import numpy as np\n",
    "\n",
    "matriz = np.array([[3, 4, 1],\n",
    "                   [3, 1, 5]])\n",
    "soma = 0\n",
    "\n",
    "for i in range(len(matriz)):\n",
    "    for j in range(len(matriz[i]):\n",
    "        soma += matriz[i][j]\n",
    "\n",
    "print(f\"A soma dos números da matriz é: {soma:.2f}\")"
   ]
  },
  {
   "cell_type": "code",
   "execution_count": null,
   "id": "958e3223-f1c1-4cd8-91a4-649b5acd3555",
   "metadata": {},
   "outputs": [],
   "source": []
  }
 ],
 "metadata": {
  "kernelspec": {
   "display_name": "Python [conda env:base] *",
   "language": "python",
   "name": "conda-base-py"
  },
  "language_info": {
   "codemirror_mode": {
    "name": "ipython",
    "version": 3
   },
   "file_extension": ".py",
   "mimetype": "text/x-python",
   "name": "python",
   "nbconvert_exporter": "python",
   "pygments_lexer": "ipython3",
   "version": "3.13.5"
  }
 },
 "nbformat": 4,
 "nbformat_minor": 5
}
