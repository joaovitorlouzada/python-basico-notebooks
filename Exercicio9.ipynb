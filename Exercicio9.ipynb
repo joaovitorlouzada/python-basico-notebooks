{
 "cells": [
  {
   "cell_type": "code",
   "execution_count": 10,
   "id": "da35f8c7-ad07-4bfa-9a3b-baa259f70850",
   "metadata": {},
   "outputs": [
    {
     "name": "stdout",
     "output_type": "stream",
     "text": [
      "6.5\n",
      "5.5\n",
      "Nome: Paulo \n",
      "Nota 1: 5 \n",
      "Nota 2: 8 \n",
      "Média: 6.5\n",
      "Nome: Clara \n",
      "Nota 1: 6 \n",
      "Nota 2: 5 \n",
      "Média: 5.5\n"
     ]
    }
   ],
   "source": [
    "#Crie uma classe chamada aluno com os seguintes atributos:\n",
    "#– Nome\n",
    "#– Nota 1\n",
    "#– Nota 2\n",
    "#– Crie um construtor para a classe (__init__)\n",
    "#Crie as seguintes funções (métodos):\n",
    "#– Calcula média, retornando a média aritmética entre as notas\n",
    "#– Mostra dados, que somente imprime o valor de todos os atributos\n",
    "#– Resultado, que verifica se o aluno está aprovado ou reprovado (se a média for maior ou igual a 6.0, o aluno está aprovado)\n",
    "#Crie dois objetos (aluno1 e aluno2) e teste as funções\n",
    "\n",
    "class Aluno:\n",
    "    def __init__(self, nome, nota1, nota2):\n",
    "        self.nome = nome\n",
    "        self.nota1 = nota1\n",
    "        self.nota2 = nota2\n",
    "\n",
    "    def calcular_media(self):\n",
    "        return (self.nota1 + self.nota2) / 2\n",
    "\n",
    "    def mostrar_dados(self):\n",
    "        print(f\"Nome: {self.nome} \\nNota 1: {self.nota1} \\nNota 2: {self.nota2} \\nMédia: {self.calcular_media()}\")\n",
    "\n",
    "    def verificar_aprovacao(self):\n",
    "        if(self.calcular_media() >= 6):\n",
    "            print(\"Aluno aprovado \")\n",
    "        else:\n",
    "            print(\"Aluno reprovado\")\n",
    "\n",
    "a1 = Aluno(\"Paulo\", 5, 8)\n",
    "a2 = Aluno(\"Clara\", 6, 5)\n",
    "\n",
    "print(a1.calcular_media())\n",
    "print(a2.calcular_media())\n",
    "\n",
    "a1.mostrar_dados()\n",
    "a2.mostrar_dados()\n",
    "\n",
    "a1.verifica\n",
    "        "
   ]
  },
  {
   "cell_type": "code",
   "execution_count": null,
   "id": "5966554a-d380-4c18-8e59-5f1dec8b23f5",
   "metadata": {},
   "outputs": [],
   "source": []
  }
 ],
 "metadata": {
  "kernelspec": {
   "display_name": "Python [conda env:base] *",
   "language": "python",
   "name": "conda-base-py"
  },
  "language_info": {
   "codemirror_mode": {
    "name": "ipython",
    "version": 3
   },
   "file_extension": ".py",
   "mimetype": "text/x-python",
   "name": "python",
   "nbconvert_exporter": "python",
   "pygments_lexer": "ipython3",
   "version": "3.13.5"
  }
 },
 "nbformat": 4,
 "nbformat_minor": 5
}
